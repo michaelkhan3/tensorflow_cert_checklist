{
  "nbformat": 4,
  "nbformat_minor": 0,
  "metadata": {
    "colab": {
      "name": "MK-test_notebook.ipynb",
      "provenance": [],
      "authorship_tag": "ABX9TyPUZWH+L4hIIlOD30YR2i55",
      "include_colab_link": true
    },
    "kernelspec": {
      "name": "python3",
      "display_name": "Python 3"
    }
  },
  "cells": [
    {
      "cell_type": "markdown",
      "metadata": {
        "id": "view-in-github",
        "colab_type": "text"
      },
      "source": [
        "<a href=\"https://colab.research.google.com/github/michaelkhan3/tensorflow_cert_checklist/blob/colab-test/MK_test_notebook.ipynb\" target=\"_parent\"><img src=\"https://colab.research.google.com/assets/colab-badge.svg\" alt=\"Open In Colab\"/></a>"
      ]
    },
    {
      "cell_type": "code",
      "metadata": {
        "id": "uMjNsgAfe0ti",
        "colab_type": "code",
        "colab": {}
      },
      "source": [
        ""
      ],
      "execution_count": null,
      "outputs": []
    },
    {
      "cell_type": "markdown",
      "metadata": {
        "id": "WwphLCbHe2_Q",
        "colab_type": "text"
      },
      "source": [
        "# New section"
      ]
    }
  ]
}
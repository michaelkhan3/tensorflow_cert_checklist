{
  "nbformat": 4,
  "nbformat_minor": 0,
  "metadata": {
    "colab": {
      "name": "multi-class-categorization.ipynb",
      "provenance": [],
      "collapsed_sections": [],
      "authorship_tag": "ABX9TyOIhTyf2xR07gsJAMKMgA8z",
      "include_colab_link": true
    },
    "kernelspec": {
      "name": "python3",
      "display_name": "Python 3"
    },
    "accelerator": "GPU"
  },
  "cells": [
    {
      "cell_type": "markdown",
      "metadata": {
        "id": "view-in-github",
        "colab_type": "text"
      },
      "source": [
        "<a href=\"https://colab.research.google.com/github/michaelkhan3/tensorflow_cert_checklist/blob/master/01-build-and-train-models/multi_class_categorization.ipynb\" target=\"_parent\"><img src=\"https://colab.research.google.com/assets/colab-badge.svg\" alt=\"Open In Colab\"/></a>"
      ]
    },
    {
      "cell_type": "markdown",
      "metadata": {
        "id": "6u2KlZGz38VN",
        "colab_type": "text"
      },
      "source": [
        "# Multi-class categorization"
      ]
    },
    {
      "cell_type": "markdown",
      "metadata": {
        "id": "1HbeV0J14WMZ",
        "colab_type": "text"
      },
      "source": [
        "## Get data\n",
        "\n",
        "In this multi-class categorization exercise we will use the [Fashion-MINST dataset](https://github.com/zalandoresearch/fashion-mnist). Created by [Zalando](https://www.zalando.com/), this dataset contains images of 10 different types of fashion garnments."
      ]
    },
    {
      "cell_type": "code",
      "metadata": {
        "id": "AUk1A4wH36hP",
        "colab_type": "code",
        "colab": {}
      },
      "source": [
        "import tensorflow as tf\n",
        "import numpy as np\n",
        "import matplotlib.pyplot as plt"
      ],
      "execution_count": 1,
      "outputs": []
    },
    {
      "cell_type": "code",
      "metadata": {
        "id": "1yRootOy97yl",
        "colab_type": "code",
        "colab": {}
      },
      "source": [
        "(x_train, y_train), (x_test, y_test) = tf.keras.datasets.fashion_mnist.load_data()"
      ],
      "execution_count": 2,
      "outputs": []
    },
    {
      "cell_type": "markdown",
      "metadata": {
        "id": "PdPhk782_wY4",
        "colab_type": "text"
      },
      "source": [
        "Let's have a look at one of the images so we can see what they look like"
      ]
    },
    {
      "cell_type": "code",
      "metadata": {
        "id": "v4U4AvaL-yc9",
        "colab_type": "code",
        "colab": {
          "base_uri": "https://localhost:8080/",
          "height": 282
        },
        "outputId": "46e777b2-7162-46bb-f782-64df7dff8ef0"
      },
      "source": [
        "plt.imshow(x_train[33])"
      ],
      "execution_count": 3,
      "outputs": [
        {
          "output_type": "execute_result",
          "data": {
            "text/plain": [
              "<matplotlib.image.AxesImage at 0x7fc58a194ba8>"
            ]
          },
          "metadata": {
            "tags": []
          },
          "execution_count": 3
        },
        {
          "output_type": "display_data",
          "data": {
            "image/png": "[encoded data removed]",
            "text/plain": [
              "<Figure size 432x288 with 1 Axes>"
            ]
          },
          "metadata": {
            "tags": [],
            "needs_background": "light"
          }
        }
      ]
    },
    {
      "cell_type": "markdown",
      "metadata": {
        "id": "_ir0Y8_5QJQC",
        "colab_type": "text"
      },
      "source": [
        "## Pre process images"
      ]
    },
    {
      "cell_type": "markdown",
      "metadata": {
        "id": "MCjvjfNgSfcF",
        "colab_type": "text"
      },
      "source": [
        "### Rescale images\n",
        "\n",
        "Rescale the pixel values to an int between 0 and 1"
      ]
    },
    {
      "cell_type": "code",
      "metadata": {
        "id": "Zt2HUQ0aPM_E",
        "colab_type": "code",
        "colab": {}
      },
      "source": [
        "x_train = x_train / 255.0\n",
        "x_test = x_test / 255.0"
      ],
      "execution_count": 4,
      "outputs": []
    },
    {
      "cell_type": "markdown",
      "metadata": {
        "id": "gK66ECYjTu7H",
        "colab_type": "text"
      },
      "source": [
        "### Add a third dimention to the dataset\n",
        "\n",
        "Because our images are in greyscale they only have two dimentions (they don't have the three color channels). To feed the images into the `Conv2D` layer it needs to have a third dimentions, so we expand the train and test images with an extra dimention.\n"
      ]
    },
    {
      "cell_type": "code",
      "metadata": {
        "id": "FEi65Zk2VOX7",
        "colab_type": "code",
        "colab": {
          "base_uri": "https://localhost:8080/",
          "height": 34
        },
        "outputId": "b18f8b53-d624-4053-fb49-6e0116a696c8"
      },
      "source": [
        "x_test.shape"
      ],
      "execution_count": 5,
      "outputs": [
        {
          "output_type": "execute_result",
          "data": {
            "text/plain": [
              "(10000, 28, 28)"
            ]
          },
          "metadata": {
            "tags": []
          },
          "execution_count": 5
        }
      ]
    },
    {
      "cell_type": "markdown",
      "metadata": {
        "id": "T2EdXv0FVqQt",
        "colab_type": "text"
      },
      "source": [
        "`x_test` has 3 dimentions __(images_in_test_set, width_in_pixels, height_in_pixels)__"
      ]
    },
    {
      "cell_type": "code",
      "metadata": {
        "id": "FklkdEhgTtsB",
        "colab_type": "code",
        "colab": {}
      },
      "source": [
        "x_train = np.expand_dims(x_train, axis=-1)\n",
        "x_test = np.expand_dims(x_test, axis=-1)"
      ],
      "execution_count": 6,
      "outputs": []
    },
    {
      "cell_type": "code",
      "metadata": {
        "id": "4UXdYwu1SShC",
        "colab_type": "code",
        "colab": {
          "base_uri": "https://localhost:8080/",
          "height": 34
        },
        "outputId": "9ab5be51-fceb-4a89-8e2d-c6d9a84095eb"
      },
      "source": [
        "x_test.shape"
      ],
      "execution_count": 7,
      "outputs": [
        {
          "output_type": "execute_result",
          "data": {
            "text/plain": [
              "(10000, 28, 28, 1)"
            ]
          },
          "metadata": {
            "tags": []
          },
          "execution_count": 7
        }
      ]
    },
    {
      "cell_type": "markdown",
      "metadata": {
        "id": "TQzg3E4JWggi",
        "colab_type": "text"
      },
      "source": [
        "We have now added a 4th dimention for the grey color channel"
      ]
    },
    {
      "cell_type": "markdown",
      "metadata": {
        "id": "0zROVR9bASDR",
        "colab_type": "text"
      },
      "source": [
        "## Multi-class categorization model\n",
        "\n",
        "There are three important steps to make a model a __multi-class categirization__ model:\n",
        "\n",
        "### 1. The last layer of the model\n",
        "\n",
        "The job of the last layer of the model is to convert all the calculations of the neural network into the output you are looking for, in this case which garment is this picture of.\n",
        "\n",
        "For multi-class categorization the last layer should have one neuron for each class you are trying to categorize. In this case we have 10 different types of garnments so we use 10 neurons with softmax activation.\n",
        "\n",
        "One of the neurons will have an output that is close to 1, the rest of the neurons will have outpus that are close to 0\n",
        "\n",
        "![multi-class_classification.png](https://drive.google.com/uc?export=view&id=1KW1poPZkjGiONtsxUiqdzgrbUZvE-xsX)\n",
        "\n",
        "\n",
        "### 2. Use the correct loss function\n",
        "\n",
        "There are two options of loss functions for multi-class categorization:\n",
        "\n",
        "*   __Sparse categorical crossentropy__ - `tf.keras.losses.SparseCategoricalCrossentropy()`\n",
        "  - Use if the labels are integers e.g. `2`\n",
        "*   __Categorical crossentropy__ - `tf.keras.losses.CategoricalCrossentropy()` \n",
        "  - Use if the labels are one-hot encoded lists e.g. `[0, 0, 1, 0, 0, 0, 0, 0, 0, 0]`\n",
        "\n",
        "\n",
        "### 3. Data labels are in the correct format\n",
        "\n",
        "Make sure the labels for your data are in the correct format. As mentioned above use the correct loss for the shape of your labels\n",
        "\n",
        "\n"
      ]
    },
    {
      "cell_type": "code",
      "metadata": {
        "id": "8a2r7R26Wrk8",
        "colab_type": "code",
        "colab": {
          "base_uri": "https://localhost:8080/",
          "height": 51
        },
        "outputId": "6aa64f39-ce07-4544-cad2-477d5709c5bd"
      },
      "source": [
        "print(f\"The shape of training labels are {y_train.shape}\")\n",
        "print(f\"The first 10 labels = {y_train[:10]}\")"
      ],
      "execution_count": 8,
      "outputs": [
        {
          "output_type": "stream",
          "text": [
            "The shape of training labels are (60000,)\n",
            "The first 10 labels = [9 0 0 3 0 2 7 2 5 5]\n"
          ],
          "name": "stdout"
        }
      ]
    },
    {
      "cell_type": "markdown",
      "metadata": {
        "id": "_8Rj0vZ1aGtB",
        "colab_type": "text"
      },
      "source": [
        "Our labels are represented as integers, not one-hot encoded arrays, therefore we should use __sparse categorical crossentropy loss__\n"
      ]
    },
    {
      "cell_type": "code",
      "metadata": {
        "id": "9vjz0AHH_fwB",
        "colab_type": "code",
        "colab": {}
      },
      "source": [
        "multi_class_categorization_model = tf.keras.Sequential([\n",
        "                                                        tf.keras.layers.Conv2D(64, (3,3), activation='relu', input_shape=(28, 28, 1)),\n",
        "                                                        tf.keras.layers.MaxPool2D(2, 2),\n",
        "                                                        tf.keras.layers.Conv2D(64, (3,3), activation='relu'),\n",
        "                                                        tf.keras.layers.MaxPool2D(2, 2),\n",
        "                                                        tf.keras.layers.Flatten(),\n",
        "                                                        tf.keras.layers.Dense(256, activation='relu'),\n",
        "                                                        # Final layer has 10 neurons with sofmax activation\n",
        "                                                        tf.keras.layers.Dense(10, activation='softmax')\n",
        "])"
      ],
      "execution_count": 9,
      "outputs": []
    },
    {
      "cell_type": "code",
      "metadata": {
        "id": "eH8ia6_vEA7P",
        "colab_type": "code",
        "colab": {}
      },
      "source": [
        "multi_class_categorization_model.compile(\n",
        "    optimizer=tf.keras.optimizers.Adam(),\n",
        "    # Use sparse categorical cross entropy loss for multi-class categorization\n",
        "    loss=tf.keras.losses.SparseCategoricalCrossentropy(),\n",
        "    metrics=[\"accuracy\"]\n",
        ")"
      ],
      "execution_count": 10,
      "outputs": []
    },
    {
      "cell_type": "code",
      "metadata": {
        "id": "BvvovJAaHQsa",
        "colab_type": "code",
        "colab": {
          "base_uri": "https://localhost:8080/",
          "height": 357
        },
        "outputId": "6e812930-528e-4375-bc2a-5a8be4479bc9"
      },
      "source": [
        "history = multi_class_categorization_model.fit(\n",
        "    x=x_train,\n",
        "    y=y_train,\n",
        "    batch_size=64,\n",
        "    epochs=10,\n",
        "    validation_data=(x_test, y_test)\n",
        ")"
      ],
      "execution_count": 11,
      "outputs": [
        {
          "output_type": "stream",
          "text": [
            "Epoch 1/10\n",
            "938/938 [==============================] - 3s 3ms/step - loss: 0.4551 - accuracy: 0.8356 - val_loss: 0.3525 - val_accuracy: 0.8712\n",
            "Epoch 2/10\n",
            "938/938 [==============================] - 3s 3ms/step - loss: 0.3014 - accuracy: 0.8892 - val_loss: 0.3100 - val_accuracy: 0.8856\n",
            "Epoch 3/10\n",
            "938/938 [==============================] - 3s 3ms/step - loss: 0.2572 - accuracy: 0.9054 - val_loss: 0.2913 - val_accuracy: 0.8918\n",
            "Epoch 4/10\n",
            "938/938 [==============================] - 3s 3ms/step - loss: 0.2248 - accuracy: 0.9155 - val_loss: 0.2639 - val_accuracy: 0.9041\n",
            "Epoch 5/10\n",
            "938/938 [==============================] - 3s 3ms/step - loss: 0.1965 - accuracy: 0.9265 - val_loss: 0.2571 - val_accuracy: 0.9055\n",
            "Epoch 6/10\n",
            "938/938 [==============================] - 3s 3ms/step - loss: 0.1722 - accuracy: 0.9356 - val_loss: 0.2542 - val_accuracy: 0.9096\n",
            "Epoch 7/10\n",
            "938/938 [==============================] - 3s 3ms/step - loss: 0.1512 - accuracy: 0.9432 - val_loss: 0.2654 - val_accuracy: 0.9090\n",
            "Epoch 8/10\n",
            "938/938 [==============================] - 3s 3ms/step - loss: 0.1304 - accuracy: 0.9510 - val_loss: 0.2646 - val_accuracy: 0.9129\n",
            "Epoch 9/10\n",
            "938/938 [==============================] - 3s 3ms/step - loss: 0.1124 - accuracy: 0.9574 - val_loss: 0.2819 - val_accuracy: 0.9093\n",
            "Epoch 10/10\n",
            "938/938 [==============================] - 3s 3ms/step - loss: 0.0976 - accuracy: 0.9634 - val_loss: 0.2991 - val_accuracy: 0.9055\n"
          ],
          "name": "stdout"
        }
      ]
    }
  ]
}
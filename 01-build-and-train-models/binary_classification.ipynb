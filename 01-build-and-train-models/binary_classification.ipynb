{
  "nbformat": 4,
  "nbformat_minor": 0,
  "metadata": {
    "colab": {
      "name": "binary-classification.ipynb",
      "provenance": [],
      "collapsed_sections": [],
      "toc_visible": true,
      "authorship_tag": "ABX9TyMM3lWp0IM9QkyDTT301ze+",
      "include_colab_link": true
    },
    "kernelspec": {
      "name": "python3",
      "display_name": "Python 3"
    },
    "accelerator": "GPU"
  },
  "cells": [
    {
      "cell_type": "markdown",
      "metadata": {
        "id": "view-in-github",
        "colab_type": "text"
      },
      "source": [
        "<a href=\"https://colab.research.google.com/github/michaelkhan3/tensorflow_cert_checklist/blob/colab-test/binary_classification.ipynb\" target=\"_parent\"><img src=\"https://colab.research.google.com/assets/colab-badge.svg\" alt=\"Open In Colab\"/></a>"
      ]
    },
    {
      "cell_type": "markdown",
      "metadata": {
        "id": "WwphLCbHe2_Q",
        "colab_type": "text"
      },
      "source": [
        "# Binary classification"
      ]
    },
    {
      "cell_type": "markdown",
      "metadata": {
        "id": "9Gz1weaKm6RI",
        "colab_type": "text"
      },
      "source": [
        "## Get data\n",
        "\n",
        "In this binary classification exercise we will use a dataset of images of cats and dogs.\n",
        "\n",
        "We can get the data using wget."
      ]
    },
    {
      "cell_type": "code",
      "metadata": {
        "id": "iPiPl4l8kRtW",
        "colab_type": "code",
        "colab": {
          "base_uri": "https://localhost:8080/",
          "height": 204
        },
        "outputId": "258b757d-755f-406c-e9c9-235290a579ec"
      },
      "source": [
        "!wget --no-check-certificate \\\n",
        "  https://storage.googleapis.com/mledu-datasets/cats_and_dogs_filtered.zip \\\n",
        "  -O /tmp/cats_and_dogs_filtered.zip"
      ],
      "execution_count": 1,
      "outputs": [
        {
          "output_type": "stream",
          "text": [
            "--2020-08-17 07:39:05--  https://storage.googleapis.com/mledu-datasets/cats_and_dogs_filtered.zip\n",
            "Resolving storage.googleapis.com (storage.googleapis.com)... 74.125.20.128, 74.125.28.128, 74.125.142.128, ...\n",
            "Connecting to storage.googleapis.com (storage.googleapis.com)|74.125.20.128|:443... connected.\n",
            "HTTP request sent, awaiting response... 200 OK\n",
            "Length: 68606236 (65M) [application/zip]\n",
            "Saving to: ‘/tmp/cats_and_dogs_filtered.zip’\n",
            "\n",
            "/tmp/cats_and_dogs_ 100%[===================>]  65.43M   149MB/s    in 0.4s    \n",
            "\n",
            "2020-08-17 07:39:05 (149 MB/s) - ‘/tmp/cats_and_dogs_filtered.zip’ saved [68606236/68606236]\n",
            "\n"
          ],
          "name": "stdout"
        }
      ]
    },
    {
      "cell_type": "markdown",
      "metadata": {
        "id": "oqatcL78sIKX",
        "colab_type": "text"
      },
      "source": [
        "## Unzip data and set up directories"
      ]
    },
    {
      "cell_type": "code",
      "metadata": {
        "id": "-O3m7dVPnvAw",
        "colab_type": "code",
        "colab": {}
      },
      "source": [
        "import os\n",
        "import zipfile"
      ],
      "execution_count": 2,
      "outputs": []
    },
    {
      "cell_type": "code",
      "metadata": {
        "id": "UH-5DrnFoZ98",
        "colab_type": "code",
        "colab": {}
      },
      "source": [
        "local_zip = '/tmp/cats_and_dogs_filtered.zip'\n",
        "zip_ref = zipfile.ZipFile(local_zip, 'r')\n",
        "zip_ref.extractall('/tmp')\n",
        "zip_ref.close()\n",
        "\n",
        "base_dir = '/tmp/cats_and_dogs_filtered'\n",
        "\n",
        "train_dir = os.path.join(base_dir, 'train')\n",
        "train_dogs_dir = os.path.join(train_dir, 'dogs')\n",
        "train_cats_dir = os.path.join(train_dir, 'cats')\n",
        "\n",
        "validation_dir = os.path.join(base_dir, 'validation')\n",
        "validation_dogs_dir = os.path.join(validation_dir, 'dogs')\n",
        "validation_cats_dir = os.path.join(validation_dir, 'cats')\n"
      ],
      "execution_count": 3,
      "outputs": []
    },
    {
      "cell_type": "markdown",
      "metadata": {
        "id": "sfIVaLs9scdM",
        "colab_type": "text"
      },
      "source": [
        "## Setup image data generator\n",
        "<a id='setup-image-data-generator'></a>"
      ]
    },
    {
      "cell_type": "code",
      "metadata": {
        "id": "iSjxQWTZtVz0",
        "colab_type": "code",
        "colab": {}
      },
      "source": [
        "from tensorflow.keras.preprocessing.image import ImageDataGenerator"
      ],
      "execution_count": 4,
      "outputs": []
    },
    {
      "cell_type": "code",
      "metadata": {
        "id": "Kt8SIPpoqVS3",
        "colab_type": "code",
        "colab": {
          "base_uri": "https://localhost:8080/",
          "height": 51
        },
        "outputId": "a702949b-b2c0-4c95-c49c-4dcd7ba55c57"
      },
      "source": [
        "train_datagen = ImageDataGenerator(rescale=1./255)\n",
        "\n",
        "train_generator = train_datagen.flow_from_directory(\n",
        "    train_dir,\n",
        "    target_size=(150, 150),\n",
        "    batch_size=20,\n",
        "    class_mode='binary'\n",
        ")\n",
        "\n",
        "validation_datagen = ImageDataGenerator(rescale=1./255)\n",
        "\n",
        "validation_generator = validation_datagen.flow_from_directory(\n",
        "    validation_dir,\n",
        "    target_size=(150, 150),\n",
        "    batch_size=20,\n",
        "    # Set class_mode to binary so labels are created for binary classification\n",
        "    class_mode='binary'\n",
        ")"
      ],
      "execution_count": 5,
      "outputs": [
        {
          "output_type": "stream",
          "text": [
            "Found 2000 images belonging to 2 classes.\n",
            "Found 1000 images belonging to 2 classes.\n"
          ],
          "name": "stdout"
        }
      ]
    },
    {
      "cell_type": "markdown",
      "metadata": {
        "id": "6Gd8tqXPx5NW",
        "colab_type": "text"
      },
      "source": [
        "## Binary classification model\n",
        "\n",
        "There are three important steps to make a model a __binary classification__ model:\n",
        "\n",
        "\n",
        "### 1. The last layer of the model \n",
        "\n",
        "The job of the last layer of the model is usually to convert all the calculations of the neural network into the output you are looking for, in this case __cat or dog__\n",
        "\n",
        "\n",
        "For binary classification the last layer has just one neuron and uses the sigmoid activation function.\n",
        "\n",
        "`tf.keras.layers.Dense(1, activation='sigmoind')`\n",
        "\n",
        "The softmax activation makes it so that the neuron can give us 2 distinct outputs, in this case 0 or 1, dog or cat.\n",
        "\n",
        "![binary_classification.png](https://drive.google.com/uc?export=view&id=1Z2opM35Fw5qvgZ1MKoGdRVcYLFUr-Owv)\n",
        "\n",
        "It is also possible do use 2 neurons and softmax activation for binary classification, but using just one neuron and sigmoid activation is usually more efficient.\n",
        "\n",
        "### 2. Use the correct loss function\n",
        "\n",
        "We use __binary crossentropy__ as the loss function for __binary classification__.\n",
        "\n",
        "\n",
        "### 3. Data labels are in the correct format \n",
        "\n",
        "Make sure the labels for you data are in the correct format.\n",
        "In this case 0 for dogs and 1 for cat.\n",
        "\n",
        "In this example we used TensorFlow's `ImageDataGenerator` to get our images and labels. When calling `flow_from_directory` we must choose `class_mode='binary'`.\n",
        "To see the code go to [Setup Image data generator](#setup-image-data-generator)"
      ]
    },
    {
      "cell_type": "code",
      "metadata": {
        "id": "MKF-8nOfv_NF",
        "colab_type": "code",
        "colab": {}
      },
      "source": [
        "import tensorflow as tf\n",
        "from tensorflow.keras.optimizers import RMSprop\n",
        "from tensorflow.keras.losses import BinaryCrossentropy"
      ],
      "execution_count": 6,
      "outputs": []
    },
    {
      "cell_type": "code",
      "metadata": {
        "id": "IwDx_RsWv7I3",
        "colab_type": "code",
        "colab": {}
      },
      "source": [
        "binary_classification_model = tf.keras.Sequential([\n",
        "                             tf.keras.layers.Conv2D(32, (3,3), activation='relu', input_shape=(150, 150, 3)),\n",
        "                             tf.keras.layers.MaxPool2D(2,2),\n",
        "                             tf.keras.layers.Conv2D(64, (3,3), activation='relu'),\n",
        "                             tf.keras.layers.MaxPool2D(2,2),\n",
        "                             tf.keras.layers.Conv2D(128, (3,3), activation='relu'),\n",
        "                             tf.keras.layers.MaxPool2D(2,2),\n",
        "                             tf.keras.layers.Conv2D(128, (3,3), activation='relu'),\n",
        "                             tf.keras.layers.MaxPool2D(2,2),\n",
        "                             tf.keras.layers.Flatten(),\n",
        "                             tf.keras.layers.Dense(512, activation='relu'),\n",
        "                            #  Final layer has 1 neuron with simoid activation\n",
        "                             tf.keras.layers.Dense(1, activation='sigmoid')\n",
        "                             ])"
      ],
      "execution_count": 7,
      "outputs": []
    },
    {
      "cell_type": "code",
      "metadata": {
        "id": "JXnJjDdUHSSF",
        "colab_type": "code",
        "colab": {}
      },
      "source": [
        "binary_classification_model.compile(\n",
        "    optimizer=RMSprop(lr=1e-4),\n",
        "    # Use binary crossentropy loss for binary classification\n",
        "    loss=BinaryCrossentropy(),\n",
        "    metrics=['accuracy']\n",
        ")"
      ],
      "execution_count": 8,
      "outputs": []
    },
    {
      "cell_type": "code",
      "metadata": {
        "id": "TJ8srIsjJN5f",
        "colab_type": "code",
        "colab": {
          "base_uri": "https://localhost:8080/",
          "height": 1000
        },
        "outputId": "2be102f3-326b-4a85-9d7b-6287038cad80"
      },
      "source": [
        "history = binary_classification_model.fit(\n",
        "    train_generator,\n",
        "    steps_per_epoch=100,\n",
        "    epochs=50,\n",
        "    validation_data=validation_generator,\n",
        "    validation_steps=50\n",
        ")"
      ],
      "execution_count": 9,
      "outputs": [
        {
          "output_type": "stream",
          "text": [
            "Epoch 1/100\n",
            "100/100 [==============================] - 8s 83ms/step - loss: 0.6913 - accuracy: 0.5120 - val_loss: 0.6762 - val_accuracy: 0.5290\n",
            "Epoch 2/100\n",
            "100/100 [==============================] - 8s 83ms/step - loss: 0.6650 - accuracy: 0.5980 - val_loss: 0.6413 - val_accuracy: 0.6310\n",
            "Epoch 3/100\n",
            "100/100 [==============================] - 8s 84ms/step - loss: 0.6179 - accuracy: 0.6590 - val_loss: 0.6151 - val_accuracy: 0.6580\n",
            "Epoch 4/100\n",
            "100/100 [==============================] - 8s 84ms/step - loss: 0.5769 - accuracy: 0.7005 - val_loss: 0.5968 - val_accuracy: 0.6730\n",
            "Epoch 5/100\n",
            "100/100 [==============================] - 8s 84ms/step - loss: 0.5437 - accuracy: 0.7265 - val_loss: 0.5723 - val_accuracy: 0.6940\n",
            "Epoch 6/100\n",
            "100/100 [==============================] - 8s 84ms/step - loss: 0.5157 - accuracy: 0.7400 - val_loss: 0.7280 - val_accuracy: 0.6050\n",
            "Epoch 7/100\n",
            "100/100 [==============================] - 8s 84ms/step - loss: 0.4944 - accuracy: 0.7560 - val_loss: 0.5492 - val_accuracy: 0.7210\n",
            "Epoch 8/100\n",
            "100/100 [==============================] - 8s 83ms/step - loss: 0.4700 - accuracy: 0.7870 - val_loss: 0.5566 - val_accuracy: 0.7250\n",
            "Epoch 9/100\n",
            "100/100 [==============================] - 8s 84ms/step - loss: 0.4427 - accuracy: 0.7865 - val_loss: 0.5605 - val_accuracy: 0.7130\n",
            "Epoch 10/100\n",
            "100/100 [==============================] - 8s 83ms/step - loss: 0.4198 - accuracy: 0.8120 - val_loss: 0.5524 - val_accuracy: 0.7280\n",
            "Epoch 11/100\n",
            "100/100 [==============================] - 8s 84ms/step - loss: 0.3990 - accuracy: 0.8210 - val_loss: 0.5788 - val_accuracy: 0.7200\n",
            "Epoch 12/100\n",
            "100/100 [==============================] - 8s 84ms/step - loss: 0.3760 - accuracy: 0.8295 - val_loss: 0.5385 - val_accuracy: 0.7510\n",
            "Epoch 13/100\n",
            "100/100 [==============================] - 8s 83ms/step - loss: 0.3523 - accuracy: 0.8550 - val_loss: 0.7177 - val_accuracy: 0.6740\n",
            "Epoch 14/100\n",
            "100/100 [==============================] - 8s 84ms/step - loss: 0.3218 - accuracy: 0.8595 - val_loss: 0.5767 - val_accuracy: 0.7160\n",
            "Epoch 15/100\n",
            "100/100 [==============================] - 8s 85ms/step - loss: 0.3072 - accuracy: 0.8755 - val_loss: 0.5481 - val_accuracy: 0.7480\n",
            "Epoch 16/100\n",
            "100/100 [==============================] - 8s 84ms/step - loss: 0.2920 - accuracy: 0.8875 - val_loss: 0.5370 - val_accuracy: 0.7560\n",
            "Epoch 17/100\n",
            "100/100 [==============================] - 8s 83ms/step - loss: 0.2701 - accuracy: 0.8935 - val_loss: 0.5906 - val_accuracy: 0.7300\n",
            "Epoch 18/100\n",
            "100/100 [==============================] - 8s 83ms/step - loss: 0.2455 - accuracy: 0.9040 - val_loss: 0.6031 - val_accuracy: 0.7390\n",
            "Epoch 19/100\n",
            "100/100 [==============================] - 8s 84ms/step - loss: 0.2317 - accuracy: 0.9075 - val_loss: 0.5806 - val_accuracy: 0.7350\n",
            "Epoch 20/100\n",
            "100/100 [==============================] - 8s 85ms/step - loss: 0.2113 - accuracy: 0.9125 - val_loss: 0.5625 - val_accuracy: 0.7540\n",
            "Epoch 21/100\n",
            "100/100 [==============================] - 8s 84ms/step - loss: 0.1930 - accuracy: 0.9320 - val_loss: 0.6223 - val_accuracy: 0.7470\n",
            "Epoch 22/100\n",
            "100/100 [==============================] - 8s 84ms/step - loss: 0.1761 - accuracy: 0.9290 - val_loss: 0.5757 - val_accuracy: 0.7750\n",
            "Epoch 23/100\n",
            "100/100 [==============================] - 8s 84ms/step - loss: 0.1591 - accuracy: 0.9490 - val_loss: 0.5926 - val_accuracy: 0.7570\n",
            "Epoch 24/100\n",
            "100/100 [==============================] - 8s 84ms/step - loss: 0.1477 - accuracy: 0.9485 - val_loss: 0.6333 - val_accuracy: 0.7400\n",
            "Epoch 25/100\n",
            "100/100 [==============================] - 8s 84ms/step - loss: 0.1254 - accuracy: 0.9565 - val_loss: 0.6280 - val_accuracy: 0.7570\n",
            "Epoch 26/100\n",
            "100/100 [==============================] - 8s 83ms/step - loss: 0.1146 - accuracy: 0.9610 - val_loss: 0.6365 - val_accuracy: 0.7530\n",
            "Epoch 27/100\n",
            "100/100 [==============================] - 8s 84ms/step - loss: 0.0977 - accuracy: 0.9725 - val_loss: 0.6576 - val_accuracy: 0.7650\n",
            "Epoch 28/100\n",
            "100/100 [==============================] - 8s 83ms/step - loss: 0.0917 - accuracy: 0.9710 - val_loss: 0.6634 - val_accuracy: 0.7640\n",
            "Epoch 29/100\n",
            "100/100 [==============================] - 8s 84ms/step - loss: 0.0741 - accuracy: 0.9835 - val_loss: 0.7641 - val_accuracy: 0.7510\n",
            "Epoch 30/100\n",
            "100/100 [==============================] - 8s 84ms/step - loss: 0.0638 - accuracy: 0.9820 - val_loss: 0.7578 - val_accuracy: 0.7560\n",
            "Epoch 31/100\n",
            "100/100 [==============================] - 8s 85ms/step - loss: 0.0551 - accuracy: 0.9845 - val_loss: 0.8987 - val_accuracy: 0.7460\n",
            "Epoch 32/100\n",
            "100/100 [==============================] - 9s 87ms/step - loss: 0.0507 - accuracy: 0.9865 - val_loss: 0.8492 - val_accuracy: 0.7450\n",
            "Epoch 33/100\n",
            "100/100 [==============================] - 8s 84ms/step - loss: 0.0398 - accuracy: 0.9880 - val_loss: 0.8173 - val_accuracy: 0.7640\n",
            "Epoch 34/100\n",
            "100/100 [==============================] - 8s 85ms/step - loss: 0.0355 - accuracy: 0.9900 - val_loss: 0.8687 - val_accuracy: 0.7590\n",
            "Epoch 35/100\n",
            "100/100 [==============================] - 8s 84ms/step - loss: 0.0341 - accuracy: 0.9930 - val_loss: 0.8548 - val_accuracy: 0.7500\n",
            "Epoch 36/100\n",
            "100/100 [==============================] - 8s 84ms/step - loss: 0.0259 - accuracy: 0.9935 - val_loss: 0.8669 - val_accuracy: 0.7590\n",
            "Epoch 37/100\n",
            "100/100 [==============================] - 8s 84ms/step - loss: 0.0220 - accuracy: 0.9970 - val_loss: 1.1288 - val_accuracy: 0.7480\n",
            "Epoch 38/100\n",
            "100/100 [==============================] - 8s 83ms/step - loss: 0.0237 - accuracy: 0.9940 - val_loss: 0.9568 - val_accuracy: 0.7550\n",
            "Epoch 39/100\n",
            "100/100 [==============================] - 8s 83ms/step - loss: 0.0189 - accuracy: 0.9935 - val_loss: 1.0031 - val_accuracy: 0.7670\n",
            "Epoch 40/100\n",
            "100/100 [==============================] - 8s 83ms/step - loss: 0.0241 - accuracy: 0.9925 - val_loss: 0.9976 - val_accuracy: 0.7540\n",
            "Epoch 41/100\n",
            "100/100 [==============================] - 8s 83ms/step - loss: 0.0173 - accuracy: 0.9970 - val_loss: 1.0159 - val_accuracy: 0.7660\n",
            "Epoch 42/100\n",
            "100/100 [==============================] - 8s 83ms/step - loss: 0.0207 - accuracy: 0.9930 - val_loss: 1.0479 - val_accuracy: 0.7610\n",
            "Epoch 43/100\n",
            "100/100 [==============================] - 8s 84ms/step - loss: 0.0094 - accuracy: 0.9970 - val_loss: 1.1910 - val_accuracy: 0.7480\n",
            "Epoch 44/100\n",
            "100/100 [==============================] - 8s 84ms/step - loss: 0.0084 - accuracy: 0.9985 - val_loss: 1.1571 - val_accuracy: 0.7610\n",
            "Epoch 45/100\n",
            "100/100 [==============================] - 8s 83ms/step - loss: 0.0094 - accuracy: 0.9965 - val_loss: 1.2024 - val_accuracy: 0.7610\n",
            "Epoch 46/100\n",
            "100/100 [==============================] - 8s 84ms/step - loss: 0.0103 - accuracy: 0.9965 - val_loss: 1.2379 - val_accuracy: 0.7580\n",
            "Epoch 47/100\n",
            "100/100 [==============================] - 8s 84ms/step - loss: 0.0101 - accuracy: 0.9965 - val_loss: 1.4796 - val_accuracy: 0.7260\n",
            "Epoch 48/100\n",
            "100/100 [==============================] - 8s 83ms/step - loss: 0.0115 - accuracy: 0.9970 - val_loss: 1.1517 - val_accuracy: 0.7710\n",
            "Epoch 49/100\n",
            "100/100 [==============================] - 8s 83ms/step - loss: 0.0128 - accuracy: 0.9960 - val_loss: 1.2254 - val_accuracy: 0.7730\n",
            "Epoch 50/100\n",
            "100/100 [==============================] - 8s 83ms/step - loss: 0.0038 - accuracy: 0.9990 - val_loss: 1.2941 - val_accuracy: 0.7540\n",
            "Epoch 51/100\n",
            "100/100 [==============================] - 8s 83ms/step - loss: 0.0129 - accuracy: 0.9970 - val_loss: 1.2332 - val_accuracy: 0.7650\n",
            "Epoch 52/100\n",
            "100/100 [==============================] - 8s 84ms/step - loss: 0.0088 - accuracy: 0.9960 - val_loss: 1.3024 - val_accuracy: 0.7630\n",
            "Epoch 53/100\n",
            "100/100 [==============================] - 8s 84ms/step - loss: 0.0156 - accuracy: 0.9955 - val_loss: 1.3900 - val_accuracy: 0.7540\n",
            "Epoch 54/100\n",
            "100/100 [==============================] - 8s 83ms/step - loss: 0.0072 - accuracy: 0.9980 - val_loss: 1.2628 - val_accuracy: 0.7630\n",
            "Epoch 55/100\n",
            "100/100 [==============================] - 8s 84ms/step - loss: 0.0053 - accuracy: 0.9985 - val_loss: 1.3143 - val_accuracy: 0.7650\n",
            "Epoch 56/100\n",
            "100/100 [==============================] - 8s 85ms/step - loss: 0.0060 - accuracy: 0.9985 - val_loss: 1.5643 - val_accuracy: 0.7550\n",
            "Epoch 57/100\n",
            "100/100 [==============================] - 8s 83ms/step - loss: 0.0111 - accuracy: 0.9970 - val_loss: 1.3637 - val_accuracy: 0.7590\n",
            "Epoch 58/100\n",
            "100/100 [==============================] - 8s 83ms/step - loss: 0.0031 - accuracy: 0.9990 - val_loss: 1.6890 - val_accuracy: 0.7470\n",
            "Epoch 59/100\n",
            "100/100 [==============================] - 8s 83ms/step - loss: 0.0074 - accuracy: 0.9965 - val_loss: 1.4630 - val_accuracy: 0.7650\n",
            "Epoch 60/100\n",
            "100/100 [==============================] - 8s 83ms/step - loss: 0.0018 - accuracy: 0.9995 - val_loss: 1.3565 - val_accuracy: 0.7710\n",
            "Epoch 61/100\n",
            "100/100 [==============================] - 9s 90ms/step - loss: 0.0015 - accuracy: 0.9990 - val_loss: 1.4894 - val_accuracy: 0.7640\n",
            "Epoch 62/100\n",
            "100/100 [==============================] - 9s 86ms/step - loss: 0.0083 - accuracy: 0.9985 - val_loss: 1.4402 - val_accuracy: 0.7530\n",
            "Epoch 63/100\n",
            "100/100 [==============================] - 9s 86ms/step - loss: 0.0045 - accuracy: 0.9990 - val_loss: 1.6696 - val_accuracy: 0.7500\n",
            "Epoch 64/100\n",
            "100/100 [==============================] - 9s 86ms/step - loss: 0.0022 - accuracy: 0.9990 - val_loss: 1.5993 - val_accuracy: 0.7580\n",
            "Epoch 65/100\n",
            "100/100 [==============================] - 9s 85ms/step - loss: 0.0053 - accuracy: 0.9990 - val_loss: 1.4593 - val_accuracy: 0.7600\n",
            "Epoch 66/100\n",
            "100/100 [==============================] - 9s 86ms/step - loss: 0.0054 - accuracy: 0.9980 - val_loss: 1.5107 - val_accuracy: 0.7610\n",
            "Epoch 67/100\n",
            "100/100 [==============================] - 9s 86ms/step - loss: 0.0046 - accuracy: 0.9985 - val_loss: 1.7794 - val_accuracy: 0.7490\n",
            "Epoch 68/100\n",
            "100/100 [==============================] - 9s 88ms/step - loss: 0.0119 - accuracy: 0.9985 - val_loss: 1.5464 - val_accuracy: 0.7510\n",
            "Epoch 69/100\n",
            "100/100 [==============================] - 9s 88ms/step - loss: 0.0030 - accuracy: 0.9995 - val_loss: 1.5406 - val_accuracy: 0.7580\n",
            "Epoch 70/100\n",
            "100/100 [==============================] - 9s 86ms/step - loss: 0.0025 - accuracy: 0.9995 - val_loss: 1.5458 - val_accuracy: 0.7600\n",
            "Epoch 71/100\n",
            "100/100 [==============================] - 9s 86ms/step - loss: 0.0024 - accuracy: 0.9995 - val_loss: 1.6703 - val_accuracy: 0.7580\n",
            "Epoch 72/100\n",
            "100/100 [==============================] - 9s 86ms/step - loss: 0.0080 - accuracy: 0.9985 - val_loss: 1.5773 - val_accuracy: 0.7660\n",
            "Epoch 73/100\n",
            "100/100 [==============================] - 9s 85ms/step - loss: 0.0120 - accuracy: 0.9965 - val_loss: 1.6528 - val_accuracy: 0.7570\n",
            "Epoch 74/100\n",
            "100/100 [==============================] - 8s 84ms/step - loss: 0.0074 - accuracy: 0.9970 - val_loss: 1.8428 - val_accuracy: 0.7480\n",
            "Epoch 75/100\n",
            "100/100 [==============================] - 8s 84ms/step - loss: 6.8233e-04 - accuracy: 1.0000 - val_loss: 1.7726 - val_accuracy: 0.7550\n",
            "Epoch 76/100\n",
            "100/100 [==============================] - 8s 84ms/step - loss: 0.0098 - accuracy: 0.9975 - val_loss: 1.7109 - val_accuracy: 0.7640\n",
            "Epoch 77/100\n",
            "100/100 [==============================] - 8s 84ms/step - loss: 0.0074 - accuracy: 0.9990 - val_loss: 1.7533 - val_accuracy: 0.7660\n",
            "Epoch 78/100\n",
            "100/100 [==============================] - 8s 84ms/step - loss: 0.0018 - accuracy: 0.9995 - val_loss: 1.7773 - val_accuracy: 0.7560\n",
            "Epoch 79/100\n",
            "100/100 [==============================] - 8s 84ms/step - loss: 0.0062 - accuracy: 0.9965 - val_loss: 1.6871 - val_accuracy: 0.7730\n",
            "Epoch 80/100\n",
            "100/100 [==============================] - 9s 85ms/step - loss: 0.0061 - accuracy: 0.9985 - val_loss: 1.6945 - val_accuracy: 0.7560\n",
            "Epoch 81/100\n",
            "100/100 [==============================] - 9s 86ms/step - loss: 1.4580e-04 - accuracy: 1.0000 - val_loss: 1.8243 - val_accuracy: 0.7610\n",
            "Epoch 82/100\n",
            "100/100 [==============================] - 8s 85ms/step - loss: 0.0109 - accuracy: 0.9975 - val_loss: 2.2112 - val_accuracy: 0.7550\n",
            "Epoch 83/100\n",
            "100/100 [==============================] - 8s 85ms/step - loss: 4.1507e-04 - accuracy: 1.0000 - val_loss: 1.7950 - val_accuracy: 0.7610\n",
            "Epoch 84/100\n",
            "100/100 [==============================] - 8s 85ms/step - loss: 0.0066 - accuracy: 0.9990 - val_loss: 1.9064 - val_accuracy: 0.7620\n",
            "Epoch 85/100\n",
            "100/100 [==============================] - 8s 85ms/step - loss: 6.6123e-04 - accuracy: 1.0000 - val_loss: 2.7826 - val_accuracy: 0.7150\n",
            "Epoch 86/100\n",
            "100/100 [==============================] - 8s 85ms/step - loss: 0.0055 - accuracy: 0.9975 - val_loss: 1.9215 - val_accuracy: 0.7520\n",
            "Epoch 87/100\n",
            "100/100 [==============================] - 8s 85ms/step - loss: 0.0047 - accuracy: 0.9975 - val_loss: 1.7316 - val_accuracy: 0.7550\n",
            "Epoch 88/100\n",
            "100/100 [==============================] - 8s 85ms/step - loss: 6.5685e-04 - accuracy: 1.0000 - val_loss: 1.8575 - val_accuracy: 0.7580\n",
            "Epoch 89/100\n",
            "100/100 [==============================] - 8s 84ms/step - loss: 0.0056 - accuracy: 0.9985 - val_loss: 1.7766 - val_accuracy: 0.7550\n",
            "Epoch 90/100\n",
            "100/100 [==============================] - 9s 85ms/step - loss: 0.0041 - accuracy: 0.9990 - val_loss: 1.8273 - val_accuracy: 0.7570\n",
            "Epoch 91/100\n",
            "100/100 [==============================] - 9s 86ms/step - loss: 0.0040 - accuracy: 0.9990 - val_loss: 1.9599 - val_accuracy: 0.7720\n",
            "Epoch 92/100\n",
            "100/100 [==============================] - 9s 85ms/step - loss: 0.0019 - accuracy: 0.9995 - val_loss: 1.9559 - val_accuracy: 0.7530\n",
            "Epoch 93/100\n",
            "100/100 [==============================] - 8s 85ms/step - loss: 0.0027 - accuracy: 0.9985 - val_loss: 1.8808 - val_accuracy: 0.7610\n",
            "Epoch 94/100\n",
            "100/100 [==============================] - 8s 85ms/step - loss: 0.0086 - accuracy: 0.9980 - val_loss: 1.8424 - val_accuracy: 0.7620\n",
            "Epoch 95/100\n",
            "100/100 [==============================] - 8s 85ms/step - loss: 0.0019 - accuracy: 0.9990 - val_loss: 2.1554 - val_accuracy: 0.7470\n",
            "Epoch 96/100\n",
            "100/100 [==============================] - 8s 84ms/step - loss: 7.6691e-05 - accuracy: 1.0000 - val_loss: 2.0150 - val_accuracy: 0.7640\n",
            "Epoch 97/100\n",
            "100/100 [==============================] - 8s 85ms/step - loss: 9.3440e-04 - accuracy: 0.9995 - val_loss: 1.9585 - val_accuracy: 0.7640\n",
            "Epoch 98/100\n",
            "100/100 [==============================] - 8s 85ms/step - loss: 0.0027 - accuracy: 0.9995 - val_loss: 2.7315 - val_accuracy: 0.7200\n",
            "Epoch 99/100\n",
            "100/100 [==============================] - 8s 84ms/step - loss: 0.0013 - accuracy: 0.9990 - val_loss: 1.9768 - val_accuracy: 0.7620\n",
            "Epoch 100/100\n",
            "100/100 [==============================] - 9s 86ms/step - loss: 0.0028 - accuracy: 0.9985 - val_loss: 2.0864 - val_accuracy: 0.7590\n"
          ],
          "name": "stdout"
        }
      ]
    },
    {
      "cell_type": "code",
      "metadata": {
        "id": "fFrFR6ezJ4wh",
        "colab_type": "code",
        "colab": {}
      },
      "source": [
        ""
      ],
      "execution_count": 9,
      "outputs": []
    }
  ]
}
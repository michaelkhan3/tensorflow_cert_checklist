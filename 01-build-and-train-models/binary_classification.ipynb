{
  "nbformat": 4,
  "nbformat_minor": 0,
  "metadata": {
    "colab": {
      "name": "binary-classification.ipynb",
      "provenance": [],
      "collapsed_sections": [],
      "toc_visible": true,
      "authorship_tag": "ABX9TyMM3lWp0IM9QkyDTT301ze+",
      "include_colab_link": true
    },
    "kernelspec": {
      "name": "python3",
      "display_name": "Python 3"
    },
    "accelerator": "GPU"
  },
  "cells": [
    {
      "cell_type": "markdown",
      "metadata": {
        "id": "view-in-github",
        "colab_type": "text"
      },
      "source": [
        "<a href=\"https://colab.research.google.com/github/michaelkhan3/tensorflow_cert_checklist/blob/colab-test/binary_classification.ipynb\" target=\"_parent\"><img src=\"https://colab.research.google.com/assets/colab-badge.svg\" alt=\"Open In Colab\"/></a>"
      ]
    },
    {
      "cell_type": "markdown",
      "metadata": {
        "id": "WwphLCbHe2_Q",
        "colab_type": "text"
      },
      "source": [
        "# Binary classification"
      ]
    },
    {
      "cell_type": "markdown",
      "metadata": {
        "id": "9Gz1weaKm6RI",
        "colab_type": "text"
      },
      "source": [
        "## Get data\n",
        "\n",
        "In this binary classification exercise we will use a dataset of images of cats and dogs.\n",
        "\n",
        "We can get the data using wget."
      ]
    },
    {
      "cell_type": "code",
      "metadata": {
        "id": "iPiPl4l8kRtW",
        "colab_type": "code",
        "colab": {
          "base_uri": "https://localhost:8080/",
          "height": 204
        },
        "outputId": "258b757d-755f-406c-e9c9-235290a579ec"
      },
      "source": [
        "!wget --no-check-certificate \\\n",
        "  https://storage.googleapis.com/mledu-datasets/cats_and_dogs_filtered.zip \\\n",
        "  -O /tmp/cats_and_dogs_filtered.zip"
      ],
      "execution_count": 1,
      "outputs": [
        {
          "output_type": "stream",
          "text": [
            "--2020-08-17 07:39:05--  https://storage.googleapis.com/mledu-datasets/cats_and_dogs_filtered.zip\n",
            "Resolving storage.googleapis.com (storage.googleapis.com)... 74.125.20.128, 74.125.28.128, 74.125.142.128, ...\n",
            "Connecting to storage.googleapis.com (storage.googleapis.com)|74.125.20.128|:443... connected.\n",
            "HTTP request sent, awaiting response... 200 OK\n",
            "Length: 68606236 (65M) [application/zip]\n",
            "Saving to: ‘/tmp/cats_and_dogs_filtered.zip’\n",
            "\n",
            "/tmp/cats_and_dogs_ 100%[===================>]  65.43M   149MB/s    in 0.4s    \n",
            "\n",
            "2020-08-17 07:39:05 (149 MB/s) - ‘/tmp/cats_and_dogs_filtered.zip’ saved [68606236/68606236]\n",
            "\n"
          ],
          "name": "stdout"
        }
      ]
    },
    {
      "cell_type": "markdown",
      "metadata": {
        "id": "oqatcL78sIKX",
        "colab_type": "text"
      },
      "source": [
        "## Unzip data and set up directories"
      ]
    },
    {
      "cell_type": "code",
      "metadata": {
        "id": "-O3m7dVPnvAw",
        "colab_type": "code",
        "colab": {}
      },
      "source": [
        "import os\n",
        "import zipfile"
      ],
      "execution_count": 2,
      "outputs": []
    },
    {
      "cell_type": "code",
      "metadata": {
        "id": "UH-5DrnFoZ98",
        "colab_type": "code",
        "colab": {}
      },
      "source": [
        "local_zip = '/tmp/cats_and_dogs_filtered.zip'\n",
        "zip_ref = zipfile.ZipFile(local_zip, 'r')\n",
        "zip_ref.extractall('/tmp')\n",
        "zip_ref.close()\n",
        "\n",
        "base_dir = '/tmp/cats_and_dogs_filtered'\n",
        "\n",
        "train_dir = os.path.join(base_dir, 'train')\n",
        "train_dogs_dir = os.path.join(train_dir, 'dogs')\n",
        "train_cats_dir = os.path.join(train_dir, 'cats')\n",
        "\n",
        "validation_dir = os.path.join(base_dir, 'validation')\n",
        "validation_dogs_dir = os.path.join(validation_dir, 'dogs')\n",
        "validation_cats_dir = os.path.join(validation_dir, 'cats')\n"
      ],
      "execution_count": 3,
      "outputs": []
    },
    {
      "cell_type": "markdown",
      "metadata": {
        "id": "sfIVaLs9scdM",
        "colab_type": "text"
      },
      "source": [
        "## Setup image data generator\n",
        "<a id='setup-image-data-generator'></a>"
      ]
    },
    {
      "cell_type": "code",
      "metadata": {
        "id": "iSjxQWTZtVz0",
        "colab_type": "code",
        "colab": {}
      },
      "source": [
        "from tensorflow.keras.preprocessing.image import ImageDataGenerator"
      ],
      "execution_count": 4,
      "outputs": []
    },
    {
      "cell_type": "code",
      "metadata": {
        "id": "Kt8SIPpoqVS3",
        "colab_type": "code",
        "colab": {
          "base_uri": "https://localhost:8080/",
          "height": 51
        },
        "outputId": "a702949b-b2c0-4c95-c49c-4dcd7ba55c57"
      },
      "source": [
        "train_datagen = ImageDataGenerator(rescale=1./255)\n",
        "\n",
        "train_generator = train_datagen.flow_from_directory(\n",
        "    train_dir,\n",
        "    target_size=(150, 150),\n",
        "    batch_size=20,\n",
        "    class_mode='binary'\n",
        ")\n",
        "\n",
        "validation_datagen = ImageDataGenerator(rescale=1./255)\n",
        "\n",
        "validation_generator = validation_datagen.flow_from_directory(\n",
        "    validation_dir,\n",
        "    target_size=(150, 150),\n",
        "    batch_size=20,\n",
        "    class_mode='binary'\n",
        ")"
      ],
      "execution_count": 5,
      "outputs": [
        {
          "output_type": "stream",
          "text": [
            "Found 2000 images belonging to 2 classes.\n",
            "Found 1000 images belonging to 2 classes.\n"
          ],
          "name": "stdout"
        }
      ]
    },
    {
      "cell_type": "markdown",
      "metadata": {
        "id": "6Gd8tqXPx5NW",
        "colab_type": "text"
      },
      "source": [
        "## Binary classification model\n",
        "\n",
        "There are two important steps to make a model a __binary classification__ mode:\n",
        "\n",
        "\n",
        "### 1. The last layer of the model \n",
        "\n",
        "The job of the last layer of the model is usually to convert all the calculations of the neural network into the output you are looking for, in this case __cat or dog__\n",
        "\n",
        "\n",
        "For binary classification the last layer has just one neuron and uses the sigmoid activation function.\n",
        "\n",
        "`tf.keras.layers.Dense(1, activation='sigmoind')`\n",
        "\n",
        "The softmax activation makes it so that the neuron can give us 2 distinct outputs, in this case 0 or 1, dog or cat.\n",
        "\n",
        "![binary_classification.png](data:image/png;base64,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)\n",
        "\n",
        "It is also possible do use 2 neurons and softmax activation for binary classification, but using just one neuron and sigmoid activation is usually more efficient.\n",
        "\n",
        "### 2. Use the correct loss function\n",
        "\n",
        "We use __binary crossentropy__ as the loss function for __binary classification__.\n",
        "\n",
        "\n",
        "### 3. Honorable mention \n",
        "\n",
        "Make sure the labels for you data are in the correct format.\n",
        "In this example we used TensorFlow's `ImageDataGenerator` to get our images and labels. When calling `flow_from_directory` we must choose `class_mode='binary'`.\n",
        "To see the code go to [Setup Image data generator](#setup-image-data-generator)"
      ]
    },
    {
      "cell_type": "code",
      "metadata": {
        "id": "MKF-8nOfv_NF",
        "colab_type": "code",
        "colab": {}
      },
      "source": [
        "import tensorflow as tf\n",
        "from tensorflow.keras.optimizers import RMSprop\n",
        "from tensorflow.keras.losses import BinaryCrossentropy"
      ],
      "execution_count": 6,
      "outputs": []
    },
    {
      "cell_type": "code",
      "metadata": {
        "id": "IwDx_RsWv7I3",
        "colab_type": "code",
        "colab": {}
      },
      "source": [
        "binary_classification_model = tf.keras.Sequential([\n",
        "                             tf.keras.layers.Conv2D(32, (3,3), activation='relu', input_shape=(150, 150, 3)),\n",
        "                             tf.keras.layers.MaxPool2D(2,2),\n",
        "                             tf.keras.layers.Conv2D(64, (3,3), activation='relu'),\n",
        "                             tf.keras.layers.MaxPool2D(2,2),\n",
        "                             tf.keras.layers.Conv2D(128, (3,3), activation='relu'),\n",
        "                             tf.keras.layers.MaxPool2D(2,2),\n",
        "                             tf.keras.layers.Conv2D(128, (3,3), activation='relu'),\n",
        "                             tf.keras.layers.MaxPool2D(2,2),\n",
        "                             tf.keras.layers.Flatten(),\n",
        "                             tf.keras.layers.Dense(512, activation='relu'),\n",
        "                            #  Final layer has 1 neuron with simoid activation\n",
        "                             tf.keras.layers.Dense(1, activation='sigmoid')\n",
        "                             ])"
      ],
      "execution_count": 7,
      "outputs": []
    },
    {
      "cell_type": "code",
      "metadata": {
        "id": "JXnJjDdUHSSF",
        "colab_type": "code",
        "colab": {}
      },
      "source": [
        "binary_classification_model.compile(\n",
        "    optimizer=RMSprop(lr=1e-4),\n",
        "    # Use binary crossentropy loss for binary classification\n",
        "    loss=BinaryCrossentropy(),\n",
        "    metrics=['accuracy']\n",
        ")"
      ],
      "execution_count": 8,
      "outputs": []
    },
    {
      "cell_type": "code",
      "metadata": {
        "id": "TJ8srIsjJN5f",
        "colab_type": "code",
        "colab": {
          "base_uri": "https://localhost:8080/",
          "height": 1000
        },
        "outputId": "2be102f3-326b-4a85-9d7b-6287038cad80"
      },
      "source": [
        "history = binary_classification_model.fit(\n",
        "    train_generator,\n",
        "    steps_per_epoch=100,\n",
        "    epochs=100,\n",
        "    validation_data=validation_generator,\n",
        "    validation_steps=50\n",
        ")"
      ],
      "execution_count": 9,
      "outputs": [
        {
          "output_type": "stream",
          "text": [
            "Epoch 1/100\n",
            "100/100 [==============================] - 8s 83ms/step - loss: 0.6913 - accuracy: 0.5120 - val_loss: 0.6762 - val_accuracy: 0.5290\n",
            "Epoch 2/100\n",
            "100/100 [==============================] - 8s 83ms/step - loss: 0.6650 - accuracy: 0.5980 - val_loss: 0.6413 - val_accuracy: 0.6310\n",
            "Epoch 3/100\n",
            "100/100 [==============================] - 8s 84ms/step - loss: 0.6179 - accuracy: 0.6590 - val_loss: 0.6151 - val_accuracy: 0.6580\n",
            "Epoch 4/100\n",
            "100/100 [==============================] - 8s 84ms/step - loss: 0.5769 - accuracy: 0.7005 - val_loss: 0.5968 - val_accuracy: 0.6730\n",
            "Epoch 5/100\n",
            "100/100 [==============================] - 8s 84ms/step - loss: 0.5437 - accuracy: 0.7265 - val_loss: 0.5723 - val_accuracy: 0.6940\n",
            "Epoch 6/100\n",
            "100/100 [==============================] - 8s 84ms/step - loss: 0.5157 - accuracy: 0.7400 - val_loss: 0.7280 - val_accuracy: 0.6050\n",
            "Epoch 7/100\n",
            "100/100 [==============================] - 8s 84ms/step - loss: 0.4944 - accuracy: 0.7560 - val_loss: 0.5492 - val_accuracy: 0.7210\n",
            "Epoch 8/100\n",
            "100/100 [==============================] - 8s 83ms/step - loss: 0.4700 - accuracy: 0.7870 - val_loss: 0.5566 - val_accuracy: 0.7250\n",
            "Epoch 9/100\n",
            "100/100 [==============================] - 8s 84ms/step - loss: 0.4427 - accuracy: 0.7865 - val_loss: 0.5605 - val_accuracy: 0.7130\n",
            "Epoch 10/100\n",
            "100/100 [==============================] - 8s 83ms/step - loss: 0.4198 - accuracy: 0.8120 - val_loss: 0.5524 - val_accuracy: 0.7280\n",
            "Epoch 11/100\n",
            "100/100 [==============================] - 8s 84ms/step - loss: 0.3990 - accuracy: 0.8210 - val_loss: 0.5788 - val_accuracy: 0.7200\n",
            "Epoch 12/100\n",
            "100/100 [==============================] - 8s 84ms/step - loss: 0.3760 - accuracy: 0.8295 - val_loss: 0.5385 - val_accuracy: 0.7510\n",
            "Epoch 13/100\n",
            "100/100 [==============================] - 8s 83ms/step - loss: 0.3523 - accuracy: 0.8550 - val_loss: 0.7177 - val_accuracy: 0.6740\n",
            "Epoch 14/100\n",
            "100/100 [==============================] - 8s 84ms/step - loss: 0.3218 - accuracy: 0.8595 - val_loss: 0.5767 - val_accuracy: 0.7160\n",
            "Epoch 15/100\n",
            "100/100 [==============================] - 8s 85ms/step - loss: 0.3072 - accuracy: 0.8755 - val_loss: 0.5481 - val_accuracy: 0.7480\n",
            "Epoch 16/100\n",
            "100/100 [==============================] - 8s 84ms/step - loss: 0.2920 - accuracy: 0.8875 - val_loss: 0.5370 - val_accuracy: 0.7560\n",
            "Epoch 17/100\n",
            "100/100 [==============================] - 8s 83ms/step - loss: 0.2701 - accuracy: 0.8935 - val_loss: 0.5906 - val_accuracy: 0.7300\n",
            "Epoch 18/100\n",
            "100/100 [==============================] - 8s 83ms/step - loss: 0.2455 - accuracy: 0.9040 - val_loss: 0.6031 - val_accuracy: 0.7390\n",
            "Epoch 19/100\n",
            "100/100 [==============================] - 8s 84ms/step - loss: 0.2317 - accuracy: 0.9075 - val_loss: 0.5806 - val_accuracy: 0.7350\n",
            "Epoch 20/100\n",
            "100/100 [==============================] - 8s 85ms/step - loss: 0.2113 - accuracy: 0.9125 - val_loss: 0.5625 - val_accuracy: 0.7540\n",
            "Epoch 21/100\n",
            "100/100 [==============================] - 8s 84ms/step - loss: 0.1930 - accuracy: 0.9320 - val_loss: 0.6223 - val_accuracy: 0.7470\n",
            "Epoch 22/100\n",
            "100/100 [==============================] - 8s 84ms/step - loss: 0.1761 - accuracy: 0.9290 - val_loss: 0.5757 - val_accuracy: 0.7750\n",
            "Epoch 23/100\n",
            "100/100 [==============================] - 8s 84ms/step - loss: 0.1591 - accuracy: 0.9490 - val_loss: 0.5926 - val_accuracy: 0.7570\n",
            "Epoch 24/100\n",
            "100/100 [==============================] - 8s 84ms/step - loss: 0.1477 - accuracy: 0.9485 - val_loss: 0.6333 - val_accuracy: 0.7400\n",
            "Epoch 25/100\n",
            "100/100 [==============================] - 8s 84ms/step - loss: 0.1254 - accuracy: 0.9565 - val_loss: 0.6280 - val_accuracy: 0.7570\n",
            "Epoch 26/100\n",
            "100/100 [==============================] - 8s 83ms/step - loss: 0.1146 - accuracy: 0.9610 - val_loss: 0.6365 - val_accuracy: 0.7530\n",
            "Epoch 27/100\n",
            "100/100 [==============================] - 8s 84ms/step - loss: 0.0977 - accuracy: 0.9725 - val_loss: 0.6576 - val_accuracy: 0.7650\n",
            "Epoch 28/100\n",
            "100/100 [==============================] - 8s 83ms/step - loss: 0.0917 - accuracy: 0.9710 - val_loss: 0.6634 - val_accuracy: 0.7640\n",
            "Epoch 29/100\n",
            "100/100 [==============================] - 8s 84ms/step - loss: 0.0741 - accuracy: 0.9835 - val_loss: 0.7641 - val_accuracy: 0.7510\n",
            "Epoch 30/100\n",
            "100/100 [==============================] - 8s 84ms/step - loss: 0.0638 - accuracy: 0.9820 - val_loss: 0.7578 - val_accuracy: 0.7560\n",
            "Epoch 31/100\n",
            "100/100 [==============================] - 8s 85ms/step - loss: 0.0551 - accuracy: 0.9845 - val_loss: 0.8987 - val_accuracy: 0.7460\n",
            "Epoch 32/100\n",
            "100/100 [==============================] - 9s 87ms/step - loss: 0.0507 - accuracy: 0.9865 - val_loss: 0.8492 - val_accuracy: 0.7450\n",
            "Epoch 33/100\n",
            "100/100 [==============================] - 8s 84ms/step - loss: 0.0398 - accuracy: 0.9880 - val_loss: 0.8173 - val_accuracy: 0.7640\n",
            "Epoch 34/100\n",
            "100/100 [==============================] - 8s 85ms/step - loss: 0.0355 - accuracy: 0.9900 - val_loss: 0.8687 - val_accuracy: 0.7590\n",
            "Epoch 35/100\n",
            "100/100 [==============================] - 8s 84ms/step - loss: 0.0341 - accuracy: 0.9930 - val_loss: 0.8548 - val_accuracy: 0.7500\n",
            "Epoch 36/100\n",
            "100/100 [==============================] - 8s 84ms/step - loss: 0.0259 - accuracy: 0.9935 - val_loss: 0.8669 - val_accuracy: 0.7590\n",
            "Epoch 37/100\n",
            "100/100 [==============================] - 8s 84ms/step - loss: 0.0220 - accuracy: 0.9970 - val_loss: 1.1288 - val_accuracy: 0.7480\n",
            "Epoch 38/100\n",
            "100/100 [==============================] - 8s 83ms/step - loss: 0.0237 - accuracy: 0.9940 - val_loss: 0.9568 - val_accuracy: 0.7550\n",
            "Epoch 39/100\n",
            "100/100 [==============================] - 8s 83ms/step - loss: 0.0189 - accuracy: 0.9935 - val_loss: 1.0031 - val_accuracy: 0.7670\n",
            "Epoch 40/100\n",
            "100/100 [==============================] - 8s 83ms/step - loss: 0.0241 - accuracy: 0.9925 - val_loss: 0.9976 - val_accuracy: 0.7540\n",
            "Epoch 41/100\n",
            "100/100 [==============================] - 8s 83ms/step - loss: 0.0173 - accuracy: 0.9970 - val_loss: 1.0159 - val_accuracy: 0.7660\n",
            "Epoch 42/100\n",
            "100/100 [==============================] - 8s 83ms/step - loss: 0.0207 - accuracy: 0.9930 - val_loss: 1.0479 - val_accuracy: 0.7610\n",
            "Epoch 43/100\n",
            "100/100 [==============================] - 8s 84ms/step - loss: 0.0094 - accuracy: 0.9970 - val_loss: 1.1910 - val_accuracy: 0.7480\n",
            "Epoch 44/100\n",
            "100/100 [==============================] - 8s 84ms/step - loss: 0.0084 - accuracy: 0.9985 - val_loss: 1.1571 - val_accuracy: 0.7610\n",
            "Epoch 45/100\n",
            "100/100 [==============================] - 8s 83ms/step - loss: 0.0094 - accuracy: 0.9965 - val_loss: 1.2024 - val_accuracy: 0.7610\n",
            "Epoch 46/100\n",
            "100/100 [==============================] - 8s 84ms/step - loss: 0.0103 - accuracy: 0.9965 - val_loss: 1.2379 - val_accuracy: 0.7580\n",
            "Epoch 47/100\n",
            "100/100 [==============================] - 8s 84ms/step - loss: 0.0101 - accuracy: 0.9965 - val_loss: 1.4796 - val_accuracy: 0.7260\n",
            "Epoch 48/100\n",
            "100/100 [==============================] - 8s 83ms/step - loss: 0.0115 - accuracy: 0.9970 - val_loss: 1.1517 - val_accuracy: 0.7710\n",
            "Epoch 49/100\n",
            "100/100 [==============================] - 8s 83ms/step - loss: 0.0128 - accuracy: 0.9960 - val_loss: 1.2254 - val_accuracy: 0.7730\n",
            "Epoch 50/100\n",
            "100/100 [==============================] - 8s 83ms/step - loss: 0.0038 - accuracy: 0.9990 - val_loss: 1.2941 - val_accuracy: 0.7540\n",
            "Epoch 51/100\n",
            "100/100 [==============================] - 8s 83ms/step - loss: 0.0129 - accuracy: 0.9970 - val_loss: 1.2332 - val_accuracy: 0.7650\n",
            "Epoch 52/100\n",
            "100/100 [==============================] - 8s 84ms/step - loss: 0.0088 - accuracy: 0.9960 - val_loss: 1.3024 - val_accuracy: 0.7630\n",
            "Epoch 53/100\n",
            "100/100 [==============================] - 8s 84ms/step - loss: 0.0156 - accuracy: 0.9955 - val_loss: 1.3900 - val_accuracy: 0.7540\n",
            "Epoch 54/100\n",
            "100/100 [==============================] - 8s 83ms/step - loss: 0.0072 - accuracy: 0.9980 - val_loss: 1.2628 - val_accuracy: 0.7630\n",
            "Epoch 55/100\n",
            "100/100 [==============================] - 8s 84ms/step - loss: 0.0053 - accuracy: 0.9985 - val_loss: 1.3143 - val_accuracy: 0.7650\n",
            "Epoch 56/100\n",
            "100/100 [==============================] - 8s 85ms/step - loss: 0.0060 - accuracy: 0.9985 - val_loss: 1.5643 - val_accuracy: 0.7550\n",
            "Epoch 57/100\n",
            "100/100 [==============================] - 8s 83ms/step - loss: 0.0111 - accuracy: 0.9970 - val_loss: 1.3637 - val_accuracy: 0.7590\n",
            "Epoch 58/100\n",
            "100/100 [==============================] - 8s 83ms/step - loss: 0.0031 - accuracy: 0.9990 - val_loss: 1.6890 - val_accuracy: 0.7470\n",
            "Epoch 59/100\n",
            "100/100 [==============================] - 8s 83ms/step - loss: 0.0074 - accuracy: 0.9965 - val_loss: 1.4630 - val_accuracy: 0.7650\n",
            "Epoch 60/100\n",
            "100/100 [==============================] - 8s 83ms/step - loss: 0.0018 - accuracy: 0.9995 - val_loss: 1.3565 - val_accuracy: 0.7710\n",
            "Epoch 61/100\n",
            "100/100 [==============================] - 9s 90ms/step - loss: 0.0015 - accuracy: 0.9990 - val_loss: 1.4894 - val_accuracy: 0.7640\n",
            "Epoch 62/100\n",
            "100/100 [==============================] - 9s 86ms/step - loss: 0.0083 - accuracy: 0.9985 - val_loss: 1.4402 - val_accuracy: 0.7530\n",
            "Epoch 63/100\n",
            "100/100 [==============================] - 9s 86ms/step - loss: 0.0045 - accuracy: 0.9990 - val_loss: 1.6696 - val_accuracy: 0.7500\n",
            "Epoch 64/100\n",
            "100/100 [==============================] - 9s 86ms/step - loss: 0.0022 - accuracy: 0.9990 - val_loss: 1.5993 - val_accuracy: 0.7580\n",
            "Epoch 65/100\n",
            "100/100 [==============================] - 9s 85ms/step - loss: 0.0053 - accuracy: 0.9990 - val_loss: 1.4593 - val_accuracy: 0.7600\n",
            "Epoch 66/100\n",
            "100/100 [==============================] - 9s 86ms/step - loss: 0.0054 - accuracy: 0.9980 - val_loss: 1.5107 - val_accuracy: 0.7610\n",
            "Epoch 67/100\n",
            "100/100 [==============================] - 9s 86ms/step - loss: 0.0046 - accuracy: 0.9985 - val_loss: 1.7794 - val_accuracy: 0.7490\n",
            "Epoch 68/100\n",
            "100/100 [==============================] - 9s 88ms/step - loss: 0.0119 - accuracy: 0.9985 - val_loss: 1.5464 - val_accuracy: 0.7510\n",
            "Epoch 69/100\n",
            "100/100 [==============================] - 9s 88ms/step - loss: 0.0030 - accuracy: 0.9995 - val_loss: 1.5406 - val_accuracy: 0.7580\n",
            "Epoch 70/100\n",
            "100/100 [==============================] - 9s 86ms/step - loss: 0.0025 - accuracy: 0.9995 - val_loss: 1.5458 - val_accuracy: 0.7600\n",
            "Epoch 71/100\n",
            "100/100 [==============================] - 9s 86ms/step - loss: 0.0024 - accuracy: 0.9995 - val_loss: 1.6703 - val_accuracy: 0.7580\n",
            "Epoch 72/100\n",
            "100/100 [==============================] - 9s 86ms/step - loss: 0.0080 - accuracy: 0.9985 - val_loss: 1.5773 - val_accuracy: 0.7660\n",
            "Epoch 73/100\n",
            "100/100 [==============================] - 9s 85ms/step - loss: 0.0120 - accuracy: 0.9965 - val_loss: 1.6528 - val_accuracy: 0.7570\n",
            "Epoch 74/100\n",
            "100/100 [==============================] - 8s 84ms/step - loss: 0.0074 - accuracy: 0.9970 - val_loss: 1.8428 - val_accuracy: 0.7480\n",
            "Epoch 75/100\n",
            "100/100 [==============================] - 8s 84ms/step - loss: 6.8233e-04 - accuracy: 1.0000 - val_loss: 1.7726 - val_accuracy: 0.7550\n",
            "Epoch 76/100\n",
            "100/100 [==============================] - 8s 84ms/step - loss: 0.0098 - accuracy: 0.9975 - val_loss: 1.7109 - val_accuracy: 0.7640\n",
            "Epoch 77/100\n",
            "100/100 [==============================] - 8s 84ms/step - loss: 0.0074 - accuracy: 0.9990 - val_loss: 1.7533 - val_accuracy: 0.7660\n",
            "Epoch 78/100\n",
            "100/100 [==============================] - 8s 84ms/step - loss: 0.0018 - accuracy: 0.9995 - val_loss: 1.7773 - val_accuracy: 0.7560\n",
            "Epoch 79/100\n",
            "100/100 [==============================] - 8s 84ms/step - loss: 0.0062 - accuracy: 0.9965 - val_loss: 1.6871 - val_accuracy: 0.7730\n",
            "Epoch 80/100\n",
            "100/100 [==============================] - 9s 85ms/step - loss: 0.0061 - accuracy: 0.9985 - val_loss: 1.6945 - val_accuracy: 0.7560\n",
            "Epoch 81/100\n",
            "100/100 [==============================] - 9s 86ms/step - loss: 1.4580e-04 - accuracy: 1.0000 - val_loss: 1.8243 - val_accuracy: 0.7610\n",
            "Epoch 82/100\n",
            "100/100 [==============================] - 8s 85ms/step - loss: 0.0109 - accuracy: 0.9975 - val_loss: 2.2112 - val_accuracy: 0.7550\n",
            "Epoch 83/100\n",
            "100/100 [==============================] - 8s 85ms/step - loss: 4.1507e-04 - accuracy: 1.0000 - val_loss: 1.7950 - val_accuracy: 0.7610\n",
            "Epoch 84/100\n",
            "100/100 [==============================] - 8s 85ms/step - loss: 0.0066 - accuracy: 0.9990 - val_loss: 1.9064 - val_accuracy: 0.7620\n",
            "Epoch 85/100\n",
            "100/100 [==============================] - 8s 85ms/step - loss: 6.6123e-04 - accuracy: 1.0000 - val_loss: 2.7826 - val_accuracy: 0.7150\n",
            "Epoch 86/100\n",
            "100/100 [==============================] - 8s 85ms/step - loss: 0.0055 - accuracy: 0.9975 - val_loss: 1.9215 - val_accuracy: 0.7520\n",
            "Epoch 87/100\n",
            "100/100 [==============================] - 8s 85ms/step - loss: 0.0047 - accuracy: 0.9975 - val_loss: 1.7316 - val_accuracy: 0.7550\n",
            "Epoch 88/100\n",
            "100/100 [==============================] - 8s 85ms/step - loss: 6.5685e-04 - accuracy: 1.0000 - val_loss: 1.8575 - val_accuracy: 0.7580\n",
            "Epoch 89/100\n",
            "100/100 [==============================] - 8s 84ms/step - loss: 0.0056 - accuracy: 0.9985 - val_loss: 1.7766 - val_accuracy: 0.7550\n",
            "Epoch 90/100\n",
            "100/100 [==============================] - 9s 85ms/step - loss: 0.0041 - accuracy: 0.9990 - val_loss: 1.8273 - val_accuracy: 0.7570\n",
            "Epoch 91/100\n",
            "100/100 [==============================] - 9s 86ms/step - loss: 0.0040 - accuracy: 0.9990 - val_loss: 1.9599 - val_accuracy: 0.7720\n",
            "Epoch 92/100\n",
            "100/100 [==============================] - 9s 85ms/step - loss: 0.0019 - accuracy: 0.9995 - val_loss: 1.9559 - val_accuracy: 0.7530\n",
            "Epoch 93/100\n",
            "100/100 [==============================] - 8s 85ms/step - loss: 0.0027 - accuracy: 0.9985 - val_loss: 1.8808 - val_accuracy: 0.7610\n",
            "Epoch 94/100\n",
            "100/100 [==============================] - 8s 85ms/step - loss: 0.0086 - accuracy: 0.9980 - val_loss: 1.8424 - val_accuracy: 0.7620\n",
            "Epoch 95/100\n",
            "100/100 [==============================] - 8s 85ms/step - loss: 0.0019 - accuracy: 0.9990 - val_loss: 2.1554 - val_accuracy: 0.7470\n",
            "Epoch 96/100\n",
            "100/100 [==============================] - 8s 84ms/step - loss: 7.6691e-05 - accuracy: 1.0000 - val_loss: 2.0150 - val_accuracy: 0.7640\n",
            "Epoch 97/100\n",
            "100/100 [==============================] - 8s 85ms/step - loss: 9.3440e-04 - accuracy: 0.9995 - val_loss: 1.9585 - val_accuracy: 0.7640\n",
            "Epoch 98/100\n",
            "100/100 [==============================] - 8s 85ms/step - loss: 0.0027 - accuracy: 0.9995 - val_loss: 2.7315 - val_accuracy: 0.7200\n",
            "Epoch 99/100\n",
            "100/100 [==============================] - 8s 84ms/step - loss: 0.0013 - accuracy: 0.9990 - val_loss: 1.9768 - val_accuracy: 0.7620\n",
            "Epoch 100/100\n",
            "100/100 [==============================] - 9s 86ms/step - loss: 0.0028 - accuracy: 0.9985 - val_loss: 2.0864 - val_accuracy: 0.7590\n"
          ],
          "name": "stdout"
        }
      ]
    },
    {
      "cell_type": "code",
      "metadata": {
        "id": "fFrFR6ezJ4wh",
        "colab_type": "code",
        "colab": {}
      },
      "source": [
        ""
      ],
      "execution_count": 9,
      "outputs": []
    }
  ]
}